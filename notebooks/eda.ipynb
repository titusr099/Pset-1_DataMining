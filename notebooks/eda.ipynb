{
 "cells": [
  {
   "cell_type": "code",
   "execution_count": 99,
   "id": "8da31cf8-4738-435f-91a1-d87b80a80176",
   "metadata": {},
   "outputs": [],
   "source": [
    "import os\n",
    "import snowflake.connector\n",
    "import pandas as pd"
   ]
  },
  {
   "cell_type": "code",
   "execution_count": 100,
   "id": "4af71945-f4ba-45a5-b1c3-3052b874e78c",
   "metadata": {},
   "outputs": [],
   "source": [
    "# Conectar a Snowflake\n",
    "conn = snowflake.connector.connect(\n",
    "    user=os.getenv(\"SNOWFLAKE_USER\"),\n",
    "    password=os.getenv(\"SNOWFLAKE_PASSWORD\"),\n",
    "    account=os.getenv(\"SNOWFLAKE_ACCOUNT\"),\n",
    "    warehouse=os.getenv(\"SNOWFLAKE_WAREHOUSE\"),\n",
    "    database=os.getenv(\"SNOWFLAKE_DATABASE\"),\n",
    "    schema=os.getenv(\"SNOWFLAKE_SCHEMA\")\n",
    ")"
   ]
  },
  {
   "cell_type": "code",
   "execution_count": 101,
   "id": "8334b867-e93e-419f-868c-cd356ec1a8be",
   "metadata": {},
   "outputs": [
    {
     "name": "stdout",
     "output_type": "stream",
     "text": [
      "Conectado a Snowflake. Versión: 9.2.7\n"
     ]
    }
   ],
   "source": [
    "# Ejecutar una consulta de prueba\n",
    "cursor = conn.cursor()\n",
    "cursor.execute(\"SELECT CURRENT_VERSION()\")\n",
    "version = cursor.fetchone()\n",
    "print(f\"Conectado a Snowflake. Versión: {version[0]}\")"
   ]
  },
  {
   "cell_type": "code",
   "execution_count": 102,
   "id": "f7178372-460d-4625-a47c-ee4155b108c6",
   "metadata": {},
   "outputs": [
    {
     "name": "stdout",
     "output_type": "stream",
     "text": [
      "INSTACART_DB\n",
      "RAPPIDB\n",
      "SNOWFLAKE\n",
      "SNOWFLAKE_SAMPLE_DATA\n"
     ]
    }
   ],
   "source": [
    "cursor.execute(\"SHOW DATABASES\")\n",
    "databases = cursor.fetchall()\n",
    "for db in databases:\n",
    "    print(db[1])"
   ]
  },
  {
   "cell_type": "code",
   "execution_count": 103,
   "id": "0e5d0cad-22e9-4d95-a831-8d788e5e67f9",
   "metadata": {},
   "outputs": [
    {
     "name": "stdout",
     "output_type": "stream",
     "text": [
      "INFORMATION_SCHEMA\n",
      "PUBLIC\n",
      "RAW\n"
     ]
    }
   ],
   "source": [
    "cursor.execute(\"SHOW SCHEMAS IN INSTACART_DB\")\n",
    "schemas = cursor.fetchall()\n",
    "for schema in schemas:\n",
    "    print(schema[1])"
   ]
  },
  {
   "cell_type": "code",
   "execution_count": 104,
   "id": "67cda498-47bc-410c-9bee-e068c739dcd0",
   "metadata": {},
   "outputs": [
    {
     "name": "stdout",
     "output_type": "stream",
     "text": [
      "aisles\n",
      "departments\n",
      "order_products\n",
      "orders\n",
      "products\n"
     ]
    }
   ],
   "source": [
    "cursor.execute(\"SHOW TABLES IN INSTACART_DB.RAW\")\n",
    "tables = cursor.fetchall()\n",
    "for table in tables:\n",
    "    print(table[1])"
   ]
  },
  {
   "cell_type": "code",
   "execution_count": 105,
   "id": "ed31a32d-4618-4b07-b661-b0fe14fd60d3",
   "metadata": {},
   "outputs": [
    {
     "data": {
      "text/plain": [
       "<snowflake.connector.cursor.SnowflakeCursor at 0x10c400fe0>"
      ]
     },
     "execution_count": 105,
     "metadata": {},
     "output_type": "execute_result"
    }
   ],
   "source": [
    "cursor.execute(\"USE DATABASE INSTACART_DB\")\n",
    "cursor.execute(\"USE SCHEMA RAW\")"
   ]
  },
  {
   "cell_type": "code",
   "execution_count": 106,
   "id": "77d8902b-271b-44af-97ff-5b6b2fd37fec",
   "metadata": {},
   "outputs": [],
   "source": [
    "# Primero analizamos la tabla \"aisles.RAW\""
   ]
  },
  {
   "cell_type": "code",
   "execution_count": 107,
   "id": "ab3a7d36-b401-4461-98fe-b59e881ab269",
   "metadata": {},
   "outputs": [
    {
     "name": "stderr",
     "output_type": "stream",
     "text": [
      "/var/folders/1p/fq1m75_x51v5l3dmf0wxswbr0000gn/T/ipykernel_46666/1964321211.py:2: UserWarning: pandas only supports SQLAlchemy connectable (engine/connection) or database string URI or sqlite3 DBAPI2 connection. Other DBAPI2 objects are not tested. Please consider using SQLAlchemy.\n",
      "  df_aisles = pd.read_sql(query_aisles, conn)\n"
     ]
    }
   ],
   "source": [
    "query_aisles = 'SELECT * FROM \"aisles\";' \n",
    "df_aisles = pd.read_sql(query_aisles, conn)"
   ]
  },
  {
   "cell_type": "code",
   "execution_count": 108,
   "id": "e9aff814-63d5-49ab-8dfd-0fc5f4c504cb",
   "metadata": {},
   "outputs": [
    {
     "data": {
      "text/html": [
       "<div>\n",
       "<style scoped>\n",
       "    .dataframe tbody tr th:only-of-type {\n",
       "        vertical-align: middle;\n",
       "    }\n",
       "\n",
       "    .dataframe tbody tr th {\n",
       "        vertical-align: top;\n",
       "    }\n",
       "\n",
       "    .dataframe thead th {\n",
       "        text-align: right;\n",
       "    }\n",
       "</style>\n",
       "<table border=\"1\" class=\"dataframe\">\n",
       "  <thead>\n",
       "    <tr style=\"text-align: right;\">\n",
       "      <th></th>\n",
       "      <th>aisle_id</th>\n",
       "      <th>aisle</th>\n",
       "    </tr>\n",
       "  </thead>\n",
       "  <tbody>\n",
       "    <tr>\n",
       "      <th>0</th>\n",
       "      <td>1</td>\n",
       "      <td>prepared soups salads</td>\n",
       "    </tr>\n",
       "    <tr>\n",
       "      <th>1</th>\n",
       "      <td>2</td>\n",
       "      <td>specialty cheeses</td>\n",
       "    </tr>\n",
       "    <tr>\n",
       "      <th>2</th>\n",
       "      <td>3</td>\n",
       "      <td>energy granola bars</td>\n",
       "    </tr>\n",
       "    <tr>\n",
       "      <th>3</th>\n",
       "      <td>4</td>\n",
       "      <td>instant foods</td>\n",
       "    </tr>\n",
       "    <tr>\n",
       "      <th>4</th>\n",
       "      <td>5</td>\n",
       "      <td>marinades meat preparation</td>\n",
       "    </tr>\n",
       "    <tr>\n",
       "      <th>...</th>\n",
       "      <td>...</td>\n",
       "      <td>...</td>\n",
       "    </tr>\n",
       "    <tr>\n",
       "      <th>129</th>\n",
       "      <td>130</td>\n",
       "      <td>hot cereal pancake mixes</td>\n",
       "    </tr>\n",
       "    <tr>\n",
       "      <th>130</th>\n",
       "      <td>131</td>\n",
       "      <td>dry pasta</td>\n",
       "    </tr>\n",
       "    <tr>\n",
       "      <th>131</th>\n",
       "      <td>132</td>\n",
       "      <td>beauty</td>\n",
       "    </tr>\n",
       "    <tr>\n",
       "      <th>132</th>\n",
       "      <td>133</td>\n",
       "      <td>muscles joints pain relief</td>\n",
       "    </tr>\n",
       "    <tr>\n",
       "      <th>133</th>\n",
       "      <td>134</td>\n",
       "      <td>specialty wines champagnes</td>\n",
       "    </tr>\n",
       "  </tbody>\n",
       "</table>\n",
       "<p>134 rows × 2 columns</p>\n",
       "</div>"
      ],
      "text/plain": [
       "     aisle_id                       aisle\n",
       "0           1       prepared soups salads\n",
       "1           2           specialty cheeses\n",
       "2           3         energy granola bars\n",
       "3           4               instant foods\n",
       "4           5  marinades meat preparation\n",
       "..        ...                         ...\n",
       "129       130    hot cereal pancake mixes\n",
       "130       131                   dry pasta\n",
       "131       132                      beauty\n",
       "132       133  muscles joints pain relief\n",
       "133       134  specialty wines champagnes\n",
       "\n",
       "[134 rows x 2 columns]"
      ]
     },
     "execution_count": 108,
     "metadata": {},
     "output_type": "execute_result"
    }
   ],
   "source": [
    "df_aisles"
   ]
  },
  {
   "cell_type": "code",
   "execution_count": 109,
   "id": "1deb5b0e-6e63-4777-be57-2f3de6cb07b6",
   "metadata": {},
   "outputs": [
    {
     "name": "stdout",
     "output_type": "stream",
     "text": [
      "<class 'pandas.core.frame.DataFrame'>\n",
      "RangeIndex: 134 entries, 0 to 133\n",
      "Data columns (total 2 columns):\n",
      " #   Column    Non-Null Count  Dtype \n",
      "---  ------    --------------  ----- \n",
      " 0   aisle_id  134 non-null    int64 \n",
      " 1   aisle     134 non-null    object\n",
      "dtypes: int64(1), object(1)\n",
      "memory usage: 2.2+ KB\n"
     ]
    }
   ],
   "source": [
    "df_aisles.info()"
   ]
  },
  {
   "cell_type": "code",
   "execution_count": 110,
   "id": "9e4f4f59-3450-42a1-b88b-a67e0c8459eb",
   "metadata": {},
   "outputs": [
    {
     "data": {
      "text/html": [
       "<div>\n",
       "<style scoped>\n",
       "    .dataframe tbody tr th:only-of-type {\n",
       "        vertical-align: middle;\n",
       "    }\n",
       "\n",
       "    .dataframe tbody tr th {\n",
       "        vertical-align: top;\n",
       "    }\n",
       "\n",
       "    .dataframe thead th {\n",
       "        text-align: right;\n",
       "    }\n",
       "</style>\n",
       "<table border=\"1\" class=\"dataframe\">\n",
       "  <thead>\n",
       "    <tr style=\"text-align: right;\">\n",
       "      <th></th>\n",
       "      <th>aisle_id</th>\n",
       "      <th>aisle</th>\n",
       "    </tr>\n",
       "  </thead>\n",
       "  <tbody>\n",
       "    <tr>\n",
       "      <th>0</th>\n",
       "      <td>1</td>\n",
       "      <td>prepared soups salads</td>\n",
       "    </tr>\n",
       "    <tr>\n",
       "      <th>1</th>\n",
       "      <td>2</td>\n",
       "      <td>specialty cheeses</td>\n",
       "    </tr>\n",
       "    <tr>\n",
       "      <th>2</th>\n",
       "      <td>3</td>\n",
       "      <td>energy granola bars</td>\n",
       "    </tr>\n",
       "    <tr>\n",
       "      <th>3</th>\n",
       "      <td>4</td>\n",
       "      <td>instant foods</td>\n",
       "    </tr>\n",
       "    <tr>\n",
       "      <th>4</th>\n",
       "      <td>5</td>\n",
       "      <td>marinades meat preparation</td>\n",
       "    </tr>\n",
       "  </tbody>\n",
       "</table>\n",
       "</div>"
      ],
      "text/plain": [
       "   aisle_id                       aisle\n",
       "0         1       prepared soups salads\n",
       "1         2           specialty cheeses\n",
       "2         3         energy granola bars\n",
       "3         4               instant foods\n",
       "4         5  marinades meat preparation"
      ]
     },
     "execution_count": 110,
     "metadata": {},
     "output_type": "execute_result"
    }
   ],
   "source": [
    "df_aisles.head()"
   ]
  },
  {
   "cell_type": "code",
   "execution_count": 111,
   "id": "e9fcf7d5-0eff-43d6-beda-53ddfcca44af",
   "metadata": {},
   "outputs": [
    {
     "name": "stdout",
     "output_type": "stream",
     "text": [
      "La tabla 'aisles' tiene 134 filas y 2 columnas.\n"
     ]
    }
   ],
   "source": [
    "num_rows_aisles, num_columns_aisles = df_aisles.shape\n",
    "print(f\"La tabla 'aisles' tiene {num_rows_aisles} filas y {num_columns_aisles} columnas.\")"
   ]
  },
  {
   "cell_type": "code",
   "execution_count": 112,
   "id": "6c3bca32-f42b-49bd-b7d5-259d9116303c",
   "metadata": {},
   "outputs": [],
   "source": [
    "num_unique_aisles = df_aisles['aisle'].nunique()"
   ]
  },
  {
   "cell_type": "code",
   "execution_count": 113,
   "id": "8e356b34-f767-49cf-a4c4-eb9f1dba286e",
   "metadata": {},
   "outputs": [
    {
     "data": {
      "text/plain": [
       "134"
      ]
     },
     "execution_count": 113,
     "metadata": {},
     "output_type": "execute_result"
    }
   ],
   "source": [
    "num_unique_aisles"
   ]
  },
  {
   "cell_type": "code",
   "execution_count": 114,
   "id": "45f6d883-3099-487e-b073-1c14bef8f0b3",
   "metadata": {},
   "outputs": [],
   "source": [
    "# Todas las filas tienen nombre únicos"
   ]
  },
  {
   "cell_type": "code",
   "execution_count": 115,
   "id": "1810c6ce-4a52-4ffc-8971-9a7fe53b2121",
   "metadata": {},
   "outputs": [
    {
     "name": "stdout",
     "output_type": "stream",
     "text": [
      "Resumen estadístico de la tabla 'aisles':\n",
      "          aisle_id                  aisle\n",
      "count   134.000000                    134\n",
      "unique         NaN                    134\n",
      "top            NaN  prepared soups salads\n",
      "freq           NaN                      1\n",
      "mean     67.500000                    NaN\n",
      "std      38.826537                    NaN\n",
      "min       1.000000                    NaN\n",
      "25%      34.250000                    NaN\n",
      "50%      67.500000                    NaN\n",
      "75%     100.750000                    NaN\n",
      "max     134.000000                    NaN\n"
     ]
    }
   ],
   "source": [
    "print(\"Resumen estadístico de la tabla 'aisles':\")\n",
    "print(df_aisles.describe(include=\"all\"))"
   ]
  },
  {
   "cell_type": "code",
   "execution_count": 116,
   "id": "b6567995-1aeb-4415-bb7c-3521428154a1",
   "metadata": {},
   "outputs": [
    {
     "name": "stdout",
     "output_type": "stream",
     "text": [
      "Valores nulos por columna:\n",
      "aisle_id    0\n",
      "aisle       0\n",
      "dtype: int64\n"
     ]
    }
   ],
   "source": [
    "# Valores nulos\n",
    "print(\"Valores nulos por columna:\")\n",
    "print(df_aisles.isnull().sum())"
   ]
  },
  {
   "cell_type": "code",
   "execution_count": 117,
   "id": "aff40a44-5349-4d4c-8aa3-2cf6fc79e9a8",
   "metadata": {},
   "outputs": [
    {
     "name": "stdout",
     "output_type": "stream",
     "text": [
      "Número de filas duplicadas: 0\n"
     ]
    }
   ],
   "source": [
    "# Ver duplicados\n",
    "print(\"Número de filas duplicadas:\", df_aisles.duplicated().sum())"
   ]
  },
  {
   "cell_type": "code",
   "execution_count": 118,
   "id": "114332bd-2d09-448e-b309-d03a97b6b368",
   "metadata": {},
   "outputs": [
    {
     "name": "stdout",
     "output_type": "stream",
     "text": [
      "Tipos de datos en la tabla:\n",
      "aisle_id     int64\n",
      "aisle       object\n",
      "dtype: object\n"
     ]
    }
   ],
   "source": [
    "# Revisar tipos de datos\n",
    "print(\"Tipos de datos en la tabla:\")\n",
    "print(df_aisles.dtypes)"
   ]
  },
  {
   "cell_type": "code",
   "execution_count": 119,
   "id": "f78421e5-2dc9-43cd-8f3f-040d65fbdcef",
   "metadata": {},
   "outputs": [],
   "source": [
    "# Seguimos con la tabla \"departments.RAW \""
   ]
  },
  {
   "cell_type": "code",
   "execution_count": 120,
   "id": "7610910b-c46d-476d-9a40-0ae40c2ed3b7",
   "metadata": {},
   "outputs": [
    {
     "name": "stderr",
     "output_type": "stream",
     "text": [
      "/var/folders/1p/fq1m75_x51v5l3dmf0wxswbr0000gn/T/ipykernel_46666/3260563204.py:2: UserWarning: pandas only supports SQLAlchemy connectable (engine/connection) or database string URI or sqlite3 DBAPI2 connection. Other DBAPI2 objects are not tested. Please consider using SQLAlchemy.\n",
      "  df_departments = pd.read_sql(query_departments, conn)\n"
     ]
    }
   ],
   "source": [
    "query_departments = 'SELECT * FROM \"departments\";' \n",
    "df_departments = pd.read_sql(query_departments, conn)"
   ]
  },
  {
   "cell_type": "code",
   "execution_count": 121,
   "id": "f3aa44de-87ea-494d-b943-a87248091488",
   "metadata": {},
   "outputs": [
    {
     "data": {
      "text/html": [
       "<div>\n",
       "<style scoped>\n",
       "    .dataframe tbody tr th:only-of-type {\n",
       "        vertical-align: middle;\n",
       "    }\n",
       "\n",
       "    .dataframe tbody tr th {\n",
       "        vertical-align: top;\n",
       "    }\n",
       "\n",
       "    .dataframe thead th {\n",
       "        text-align: right;\n",
       "    }\n",
       "</style>\n",
       "<table border=\"1\" class=\"dataframe\">\n",
       "  <thead>\n",
       "    <tr style=\"text-align: right;\">\n",
       "      <th></th>\n",
       "      <th>department_id</th>\n",
       "      <th>department</th>\n",
       "    </tr>\n",
       "  </thead>\n",
       "  <tbody>\n",
       "    <tr>\n",
       "      <th>0</th>\n",
       "      <td>1</td>\n",
       "      <td>frozen</td>\n",
       "    </tr>\n",
       "    <tr>\n",
       "      <th>1</th>\n",
       "      <td>2</td>\n",
       "      <td>other</td>\n",
       "    </tr>\n",
       "    <tr>\n",
       "      <th>2</th>\n",
       "      <td>3</td>\n",
       "      <td>bakery</td>\n",
       "    </tr>\n",
       "    <tr>\n",
       "      <th>3</th>\n",
       "      <td>4</td>\n",
       "      <td>produce</td>\n",
       "    </tr>\n",
       "    <tr>\n",
       "      <th>4</th>\n",
       "      <td>5</td>\n",
       "      <td>alcohol</td>\n",
       "    </tr>\n",
       "    <tr>\n",
       "      <th>5</th>\n",
       "      <td>6</td>\n",
       "      <td>international</td>\n",
       "    </tr>\n",
       "    <tr>\n",
       "      <th>6</th>\n",
       "      <td>7</td>\n",
       "      <td>beverages</td>\n",
       "    </tr>\n",
       "    <tr>\n",
       "      <th>7</th>\n",
       "      <td>8</td>\n",
       "      <td>pets</td>\n",
       "    </tr>\n",
       "    <tr>\n",
       "      <th>8</th>\n",
       "      <td>9</td>\n",
       "      <td>dry goods pasta</td>\n",
       "    </tr>\n",
       "    <tr>\n",
       "      <th>9</th>\n",
       "      <td>10</td>\n",
       "      <td>bulk</td>\n",
       "    </tr>\n",
       "    <tr>\n",
       "      <th>10</th>\n",
       "      <td>11</td>\n",
       "      <td>personal care</td>\n",
       "    </tr>\n",
       "    <tr>\n",
       "      <th>11</th>\n",
       "      <td>12</td>\n",
       "      <td>meat seafood</td>\n",
       "    </tr>\n",
       "    <tr>\n",
       "      <th>12</th>\n",
       "      <td>13</td>\n",
       "      <td>pantry</td>\n",
       "    </tr>\n",
       "    <tr>\n",
       "      <th>13</th>\n",
       "      <td>14</td>\n",
       "      <td>breakfast</td>\n",
       "    </tr>\n",
       "    <tr>\n",
       "      <th>14</th>\n",
       "      <td>15</td>\n",
       "      <td>canned goods</td>\n",
       "    </tr>\n",
       "    <tr>\n",
       "      <th>15</th>\n",
       "      <td>16</td>\n",
       "      <td>dairy eggs</td>\n",
       "    </tr>\n",
       "    <tr>\n",
       "      <th>16</th>\n",
       "      <td>17</td>\n",
       "      <td>household</td>\n",
       "    </tr>\n",
       "    <tr>\n",
       "      <th>17</th>\n",
       "      <td>18</td>\n",
       "      <td>babies</td>\n",
       "    </tr>\n",
       "    <tr>\n",
       "      <th>18</th>\n",
       "      <td>19</td>\n",
       "      <td>snacks</td>\n",
       "    </tr>\n",
       "    <tr>\n",
       "      <th>19</th>\n",
       "      <td>20</td>\n",
       "      <td>deli</td>\n",
       "    </tr>\n",
       "    <tr>\n",
       "      <th>20</th>\n",
       "      <td>21</td>\n",
       "      <td>missing</td>\n",
       "    </tr>\n",
       "  </tbody>\n",
       "</table>\n",
       "</div>"
      ],
      "text/plain": [
       "    department_id       department\n",
       "0               1           frozen\n",
       "1               2            other\n",
       "2               3           bakery\n",
       "3               4          produce\n",
       "4               5          alcohol\n",
       "5               6    international\n",
       "6               7        beverages\n",
       "7               8             pets\n",
       "8               9  dry goods pasta\n",
       "9              10             bulk\n",
       "10             11    personal care\n",
       "11             12     meat seafood\n",
       "12             13           pantry\n",
       "13             14        breakfast\n",
       "14             15     canned goods\n",
       "15             16       dairy eggs\n",
       "16             17        household\n",
       "17             18           babies\n",
       "18             19           snacks\n",
       "19             20             deli\n",
       "20             21          missing"
      ]
     },
     "execution_count": 121,
     "metadata": {},
     "output_type": "execute_result"
    }
   ],
   "source": [
    "df_departments"
   ]
  },
  {
   "cell_type": "code",
   "execution_count": 122,
   "id": "b86c4380-f36b-4f38-a96e-1f0f543981d1",
   "metadata": {},
   "outputs": [
    {
     "name": "stdout",
     "output_type": "stream",
     "text": [
      "<class 'pandas.core.frame.DataFrame'>\n",
      "RangeIndex: 21 entries, 0 to 20\n",
      "Data columns (total 2 columns):\n",
      " #   Column         Non-Null Count  Dtype \n",
      "---  ------         --------------  ----- \n",
      " 0   department_id  21 non-null     int64 \n",
      " 1   department     21 non-null     object\n",
      "dtypes: int64(1), object(1)\n",
      "memory usage: 468.0+ bytes\n"
     ]
    }
   ],
   "source": [
    "df_departments.info()"
   ]
  },
  {
   "cell_type": "code",
   "execution_count": 123,
   "id": "25963013-5273-4921-88f7-3662180ac381",
   "metadata": {},
   "outputs": [
    {
     "name": "stdout",
     "output_type": "stream",
     "text": [
      "La tabla 'departments' tiene 21 filas y 2 columnas.\n"
     ]
    }
   ],
   "source": [
    "num_rows_departments, num_columns_departments = df_departments.shape\n",
    "print(f\"La tabla 'departments' tiene {num_rows_departments} filas y {num_columns_departments} columnas.\")"
   ]
  },
  {
   "cell_type": "code",
   "execution_count": 124,
   "id": "a137544d-aac5-4a70-82c5-818ca388a26a",
   "metadata": {},
   "outputs": [
    {
     "name": "stdout",
     "output_type": "stream",
     "text": [
      "\n",
      "Resumen estadístico de la tabla 'departments':\n",
      "        department_id department\n",
      "count       21.000000         21\n",
      "unique            NaN         21\n",
      "top               NaN     frozen\n",
      "freq              NaN          1\n",
      "mean        11.000000        NaN\n",
      "std          6.204837        NaN\n",
      "min          1.000000        NaN\n",
      "25%          6.000000        NaN\n",
      "50%         11.000000        NaN\n",
      "75%         16.000000        NaN\n",
      "max         21.000000        NaN\n"
     ]
    }
   ],
   "source": [
    "print(\"\\nResumen estadístico de la tabla 'departments':\")\n",
    "print(df_departments.describe(include=\"all\"))"
   ]
  },
  {
   "cell_type": "code",
   "execution_count": 125,
   "id": "3700c2cc-c678-49d5-a3bc-9ac6f537a0ae",
   "metadata": {},
   "outputs": [
    {
     "name": "stdout",
     "output_type": "stream",
     "text": [
      "\n",
      "Valores nulos por columna:\n",
      "department_id    0\n",
      "department       0\n",
      "dtype: int64\n"
     ]
    }
   ],
   "source": [
    "# Valores nulos\n",
    "print(\"\\nValores nulos por columna:\")\n",
    "print(df_departments.isnull().sum())"
   ]
  },
  {
   "cell_type": "code",
   "execution_count": 126,
   "id": "8ac6da18-8faf-4f6b-bb54-dd682a6f42d3",
   "metadata": {},
   "outputs": [
    {
     "name": "stdout",
     "output_type": "stream",
     "text": [
      "\n",
      "Departamentos duplicados:\n",
      "Empty DataFrame\n",
      "Columns: [department_id, department]\n",
      "Index: []\n"
     ]
    }
   ],
   "source": [
    "# duplicados\n",
    "duplicados = df_departments[df_departments.duplicated(subset=['department'], keep=False)]\n",
    "print(\"\\nDepartamentos duplicados:\")\n",
    "print(duplicados)"
   ]
  },
  {
   "cell_type": "code",
   "execution_count": 127,
   "id": "facfbda4-7f7b-42af-9b00-e8b05c283e28",
   "metadata": {},
   "outputs": [],
   "source": [
    "# Seguimos con la tabla \"order_products\""
   ]
  },
  {
   "cell_type": "code",
   "execution_count": 128,
   "id": "48b39c6b-5f9f-4711-8f20-045d75ca1ff1",
   "metadata": {},
   "outputs": [
    {
     "name": "stderr",
     "output_type": "stream",
     "text": [
      "/var/folders/1p/fq1m75_x51v5l3dmf0wxswbr0000gn/T/ipykernel_46666/1118289459.py:2: UserWarning: pandas only supports SQLAlchemy connectable (engine/connection) or database string URI or sqlite3 DBAPI2 connection. Other DBAPI2 objects are not tested. Please consider using SQLAlchemy.\n",
      "  df_order_products = pd.read_sql(query_order_products, conn)\n"
     ]
    }
   ],
   "source": [
    "query_order_products = 'SELECT * FROM \"order_products\";' \n",
    "df_order_products = pd.read_sql(query_order_products, conn)"
   ]
  },
  {
   "cell_type": "code",
   "execution_count": 129,
   "id": "c4affc4d-f7f8-4965-91f1-949585decca1",
   "metadata": {},
   "outputs": [
    {
     "data": {
      "text/html": [
       "<div>\n",
       "<style scoped>\n",
       "    .dataframe tbody tr th:only-of-type {\n",
       "        vertical-align: middle;\n",
       "    }\n",
       "\n",
       "    .dataframe tbody tr th {\n",
       "        vertical-align: top;\n",
       "    }\n",
       "\n",
       "    .dataframe thead th {\n",
       "        text-align: right;\n",
       "    }\n",
       "</style>\n",
       "<table border=\"1\" class=\"dataframe\">\n",
       "  <thead>\n",
       "    <tr style=\"text-align: right;\">\n",
       "      <th></th>\n",
       "      <th>order_id</th>\n",
       "      <th>product_id</th>\n",
       "      <th>add_to_cart_order</th>\n",
       "      <th>reordered</th>\n",
       "    </tr>\n",
       "  </thead>\n",
       "  <tbody>\n",
       "    <tr>\n",
       "      <th>0</th>\n",
       "      <td>4</td>\n",
       "      <td>10054</td>\n",
       "      <td>5.0</td>\n",
       "      <td>1</td>\n",
       "    </tr>\n",
       "    <tr>\n",
       "      <th>1</th>\n",
       "      <td>4</td>\n",
       "      <td>17616</td>\n",
       "      <td>10.0</td>\n",
       "      <td>1</td>\n",
       "    </tr>\n",
       "    <tr>\n",
       "      <th>2</th>\n",
       "      <td>4</td>\n",
       "      <td>21351</td>\n",
       "      <td>6.0</td>\n",
       "      <td>1</td>\n",
       "    </tr>\n",
       "    <tr>\n",
       "      <th>3</th>\n",
       "      <td>4</td>\n",
       "      <td>22598</td>\n",
       "      <td>7.0</td>\n",
       "      <td>1</td>\n",
       "    </tr>\n",
       "    <tr>\n",
       "      <th>4</th>\n",
       "      <td>4</td>\n",
       "      <td>25146</td>\n",
       "      <td>11.0</td>\n",
       "      <td>1</td>\n",
       "    </tr>\n",
       "    <tr>\n",
       "      <th>...</th>\n",
       "      <td>...</td>\n",
       "      <td>...</td>\n",
       "      <td>...</td>\n",
       "      <td>...</td>\n",
       "    </tr>\n",
       "    <tr>\n",
       "      <th>4545002</th>\n",
       "      <td>3421077</td>\n",
       "      <td>26940</td>\n",
       "      <td>3.0</td>\n",
       "      <td>0</td>\n",
       "    </tr>\n",
       "    <tr>\n",
       "      <th>4545003</th>\n",
       "      <td>3421077</td>\n",
       "      <td>27845</td>\n",
       "      <td>4.0</td>\n",
       "      <td>0</td>\n",
       "    </tr>\n",
       "    <tr>\n",
       "      <th>4545004</th>\n",
       "      <td>3421077</td>\n",
       "      <td>27966</td>\n",
       "      <td>1.0</td>\n",
       "      <td>0</td>\n",
       "    </tr>\n",
       "    <tr>\n",
       "      <th>4545005</th>\n",
       "      <td>3421077</td>\n",
       "      <td>45007</td>\n",
       "      <td>2.0</td>\n",
       "      <td>0</td>\n",
       "    </tr>\n",
       "    <tr>\n",
       "      <th>4545006</th>\n",
       "      <td>3421079</td>\n",
       "      <td>30136</td>\n",
       "      <td>1.0</td>\n",
       "      <td>0</td>\n",
       "    </tr>\n",
       "  </tbody>\n",
       "</table>\n",
       "<p>4545007 rows × 4 columns</p>\n",
       "</div>"
      ],
      "text/plain": [
       "         order_id  product_id  add_to_cart_order  reordered\n",
       "0               4       10054                5.0          1\n",
       "1               4       17616               10.0          1\n",
       "2               4       21351                6.0          1\n",
       "3               4       22598                7.0          1\n",
       "4               4       25146               11.0          1\n",
       "...           ...         ...                ...        ...\n",
       "4545002   3421077       26940                3.0          0\n",
       "4545003   3421077       27845                4.0          0\n",
       "4545004   3421077       27966                1.0          0\n",
       "4545005   3421077       45007                2.0          0\n",
       "4545006   3421079       30136                1.0          0\n",
       "\n",
       "[4545007 rows x 4 columns]"
      ]
     },
     "execution_count": 129,
     "metadata": {},
     "output_type": "execute_result"
    }
   ],
   "source": [
    "df_order_products"
   ]
  },
  {
   "cell_type": "code",
   "execution_count": 130,
   "id": "68c844da-09d5-492f-8492-8d3478189ae3",
   "metadata": {},
   "outputs": [
    {
     "name": "stdout",
     "output_type": "stream",
     "text": [
      "<class 'pandas.core.frame.DataFrame'>\n",
      "RangeIndex: 4545007 entries, 0 to 4545006\n",
      "Data columns (total 4 columns):\n",
      " #   Column             Dtype  \n",
      "---  ------             -----  \n",
      " 0   order_id           int64  \n",
      " 1   product_id         int64  \n",
      " 2   add_to_cart_order  float64\n",
      " 3   reordered          int64  \n",
      "dtypes: float64(1), int64(3)\n",
      "memory usage: 138.7 MB\n"
     ]
    }
   ],
   "source": [
    "df_order_products.info()"
   ]
  },
  {
   "cell_type": "code",
   "execution_count": 131,
   "id": "625b7629-ea9a-4836-920e-53da186297f6",
   "metadata": {},
   "outputs": [
    {
     "name": "stdout",
     "output_type": "stream",
     "text": [
      "La tabla 'departments' tiene 4545007 filas y 4 columnas.\n"
     ]
    }
   ],
   "source": [
    "num_rows_order_products, num_columns_order_products = df_order_products.shape\n",
    "print(f\"La tabla 'departments' tiene {num_rows_order_products} filas y {num_columns_order_products} columnas.\")"
   ]
  },
  {
   "cell_type": "code",
   "execution_count": 132,
   "id": "803a7090-c1d5-483b-9327-5139598d6fc6",
   "metadata": {},
   "outputs": [
    {
     "name": "stdout",
     "output_type": "stream",
     "text": [
      "\n",
      "Resumen estadístico de la tabla 'order_products':\n",
      "           order_id    product_id  add_to_cart_order     reordered\n",
      "count  4.545007e+06  4.545007e+06       4.544171e+06  4.545007e+06\n",
      "mean   1.711166e+06  2.558084e+04       8.351669e+00  5.905025e-01\n",
      "std    9.850955e+05  1.409552e+04       7.080368e+00  4.917411e-01\n",
      "min    4.000000e+00  1.000000e+00       1.000000e+00  0.000000e+00\n",
      "25%    8.608170e+05  1.353500e+04       3.000000e+00  0.000000e+00\n",
      "50%    1.711530e+06  2.527200e+04       6.000000e+00  1.000000e+00\n",
      "75%    2.561311e+06  3.793500e+04       1.100000e+01  1.000000e+00\n",
      "max    3.421079e+06  4.969400e+04       6.400000e+01  1.000000e+00\n"
     ]
    }
   ],
   "source": [
    "# Resumen estadístico\n",
    "print(\"\\nResumen estadístico de la tabla 'order_products':\")\n",
    "print(df_order_products.describe(include=\"all\"))"
   ]
  },
  {
   "cell_type": "code",
   "execution_count": 133,
   "id": "55dd388a-3763-4741-8f8e-a37c573b0dc5",
   "metadata": {},
   "outputs": [
    {
     "name": "stdout",
     "output_type": "stream",
     "text": [
      "\n",
      "Valores nulos por columna:\n",
      "order_id               0\n",
      "product_id             0\n",
      "add_to_cart_order    836\n",
      "reordered              0\n",
      "dtype: int64\n"
     ]
    }
   ],
   "source": [
    "# Contar valores nulos por columna\n",
    "print(\"\\nValores nulos por columna:\")\n",
    "print(df_order_products.isnull().sum())"
   ]
  },
  {
   "cell_type": "code",
   "execution_count": 134,
   "id": "7e3c40a3-34d7-4c6b-9aa4-93df3a821ca3",
   "metadata": {},
   "outputs": [
    {
     "name": "stdout",
     "output_type": "stream",
     "text": [
      "         order_id  product_id  add_to_cart_order  reordered\n",
      "12802        9310       25753                NaN          0\n",
      "82485       61355        1087                NaN          0\n",
      "82487       61355        1203                NaN          0\n",
      "82489       61355        1700                NaN          0\n",
      "82492       61355        3390                NaN          0\n",
      "...           ...         ...                ...        ...\n",
      "4494959   3383594          63                NaN          0\n",
      "4494982   3383594       15076                NaN          0\n",
      "4494984   3383594       15424                NaN          1\n",
      "4495022   3383594       46710                NaN          0\n",
      "4495027   3383594       49144                NaN          1\n",
      "\n",
      "[836 rows x 4 columns]\n"
     ]
    }
   ],
   "source": [
    "# Filtrar y mostrar registros con valores nulos en 'add_to_cart_order'\n",
    "df_null_add_to_cart = df_order_products[df_order_products['add_to_cart_order'].isnull()]\n",
    "print(df_null_add_to_cart)"
   ]
  },
  {
   "cell_type": "code",
   "execution_count": null,
   "id": "f5574f79-c72c-4810-9e51-1434d2038167",
   "metadata": {},
   "outputs": [],
   "source": [
    "df_order"
   ]
  },
  {
   "cell_type": "code",
   "execution_count": 135,
   "id": "0147e7b6-34d4-4274-a940-86c3b630bbc1",
   "metadata": {},
   "outputs": [
    {
     "data": {
      "text/plain": [
       "order_id\n",
       "61355      63\n",
       "3308010    51\n",
       "2136777    44\n",
       "171934     40\n",
       "1959075    34\n",
       "           ..\n",
       "888470      1\n",
       "1598369     1\n",
       "747668      1\n",
       "1677118     1\n",
       "9310        1\n",
       "Name: count, Length: 70, dtype: int64"
      ]
     },
     "execution_count": 135,
     "metadata": {},
     "output_type": "execute_result"
    }
   ],
   "source": [
    "#Ver si ciertos order_id tienen más valores nulos que otros. Esto nos ayuda a ver si hay un patrón en ciertos pedidos.\n",
    "df_null_add_to_cart['order_id'].value_counts()"
   ]
  },
  {
   "cell_type": "code",
   "execution_count": 136,
   "id": "318789e9-af8e-4f5c-8624-324b7039b99d",
   "metadata": {},
   "outputs": [
    {
     "data": {
      "text/plain": [
       "product_id\n",
       "11193    4\n",
       "24852    4\n",
       "21137    4\n",
       "27555    4\n",
       "40709    4\n",
       "        ..\n",
       "30552    1\n",
       "41960    1\n",
       "48679    1\n",
       "7401     1\n",
       "49144    1\n",
       "Name: count, Length: 720, dtype: int64"
      ]
     },
     "execution_count": 136,
     "metadata": {},
     "output_type": "execute_result"
    }
   ],
   "source": [
    "#Ver si los valores nulos están asociados a ciertos product_id\n",
    "df_null_add_to_cart['product_id'].value_counts()"
   ]
  },
  {
   "cell_type": "code",
   "execution_count": 137,
   "id": "87a287b3-f871-41cd-bc67-216de6fa05fd",
   "metadata": {},
   "outputs": [
    {
     "data": {
      "text/plain": [
       "836"
      ]
     },
     "execution_count": 137,
     "metadata": {},
     "output_type": "execute_result"
    }
   ],
   "source": [
    "df_order_products['add_to_cart_order'].isnull().sum()  # Filas con NaN"
   ]
  },
  {
   "cell_type": "code",
   "execution_count": 138,
   "id": "6dbda606-b2de-4c79-830f-371b2c4eac70",
   "metadata": {},
   "outputs": [
    {
     "data": {
      "text/plain": [
       "4544171"
      ]
     },
     "execution_count": 138,
     "metadata": {},
     "output_type": "execute_result"
    }
   ],
   "source": [
    "df_order_products['add_to_cart_order'].notnull().sum()  # Filas con datos"
   ]
  },
  {
   "cell_type": "code",
   "execution_count": 139,
   "id": "e967a548-06c1-4922-ab92-1ac272bfa813",
   "metadata": {},
   "outputs": [
    {
     "data": {
      "text/plain": [
       "4545007"
      ]
     },
     "execution_count": 139,
     "metadata": {},
     "output_type": "execute_result"
    }
   ],
   "source": [
    "df_order_products.shape[0] #Total de filas"
   ]
  },
  {
   "cell_type": "code",
   "execution_count": 140,
   "id": "f005c7fd-5bcf-481a-8d63-37ace37abdd5",
   "metadata": {},
   "outputs": [],
   "source": [
    "# La columna add_to_cart_order indica la posición en la que un producto\n",
    "# fue agregado al carrito dentro de una orden específica."
   ]
  },
  {
   "cell_type": "code",
   "execution_count": 181,
   "id": "80b1adf6-aa59-4906-a76b-6dfcced03b3d",
   "metadata": {},
   "outputs": [
    {
     "data": {
      "text/html": [
       "<div>\n",
       "<style scoped>\n",
       "    .dataframe tbody tr th:only-of-type {\n",
       "        vertical-align: middle;\n",
       "    }\n",
       "\n",
       "    .dataframe tbody tr th {\n",
       "        vertical-align: top;\n",
       "    }\n",
       "\n",
       "    .dataframe thead th {\n",
       "        text-align: right;\n",
       "    }\n",
       "</style>\n",
       "<table border=\"1\" class=\"dataframe\">\n",
       "  <thead>\n",
       "    <tr style=\"text-align: right;\">\n",
       "      <th></th>\n",
       "      <th>order_id</th>\n",
       "      <th>product_id</th>\n",
       "      <th>add_to_cart_order</th>\n",
       "      <th>reordered</th>\n",
       "    </tr>\n",
       "  </thead>\n",
       "  <tbody>\n",
       "    <tr>\n",
       "      <th>12802</th>\n",
       "      <td>9310</td>\n",
       "      <td>25753</td>\n",
       "      <td>NaN</td>\n",
       "      <td>0</td>\n",
       "    </tr>\n",
       "    <tr>\n",
       "      <th>82485</th>\n",
       "      <td>61355</td>\n",
       "      <td>1087</td>\n",
       "      <td>NaN</td>\n",
       "      <td>0</td>\n",
       "    </tr>\n",
       "    <tr>\n",
       "      <th>82487</th>\n",
       "      <td>61355</td>\n",
       "      <td>1203</td>\n",
       "      <td>NaN</td>\n",
       "      <td>0</td>\n",
       "    </tr>\n",
       "    <tr>\n",
       "      <th>82489</th>\n",
       "      <td>61355</td>\n",
       "      <td>1700</td>\n",
       "      <td>NaN</td>\n",
       "      <td>0</td>\n",
       "    </tr>\n",
       "    <tr>\n",
       "      <th>82492</th>\n",
       "      <td>61355</td>\n",
       "      <td>3390</td>\n",
       "      <td>NaN</td>\n",
       "      <td>0</td>\n",
       "    </tr>\n",
       "  </tbody>\n",
       "</table>\n",
       "</div>"
      ],
      "text/plain": [
       "       order_id  product_id  add_to_cart_order  reordered\n",
       "12802      9310       25753                NaN          0\n",
       "82485     61355        1087                NaN          0\n",
       "82487     61355        1203                NaN          0\n",
       "82489     61355        1700                NaN          0\n",
       "82492     61355        3390                NaN          0"
      ]
     },
     "execution_count": 181,
     "metadata": {},
     "output_type": "execute_result"
    }
   ],
   "source": [
    "# Ver ejemplos de productos con add_to_cart_order nulo\n",
    "df_order_products[df_order_products['add_to_cart_order'].isnull()].head()"
   ]
  },
  {
   "cell_type": "code",
   "execution_count": 184,
   "id": "1fcbf2ca-fe40-40b0-bc3e-b90d33621c89",
   "metadata": {},
   "outputs": [
    {
     "data": {
      "text/plain": [
       "order_id\n",
       "61355      63\n",
       "3308010    51\n",
       "2136777    44\n",
       "171934     40\n",
       "1959075    34\n",
       "Name: count, dtype: int64"
      ]
     },
     "execution_count": 184,
     "metadata": {},
     "output_type": "execute_result"
    }
   ],
   "source": [
    "# Analizar si los productos con NaN pertenecen a órdenes recurrentes\n",
    "df_order_products[df_order_products['add_to_cart_order'].isnull()]['order_id'].value_counts().head()"
   ]
  },
  {
   "cell_type": "code",
   "execution_count": 186,
   "id": "34be8287-163b-462f-a064-7bcbceac62be",
   "metadata": {},
   "outputs": [
    {
     "data": {
      "text/plain": [
       "reordered\n",
       "0    517\n",
       "1    319\n",
       "dtype: int64"
      ]
     },
     "execution_count": 186,
     "metadata": {},
     "output_type": "execute_result"
    }
   ],
   "source": [
    "# Ver si hay una relación con la frecuencia de compra\n",
    "df_order_products[df_order_products['add_to_cart_order'].isnull()].groupby('reordered').size()"
   ]
  },
  {
   "cell_type": "code",
   "execution_count": 141,
   "id": "ec5d5e2e-3b11-4aef-a0f1-dc0b797e0682",
   "metadata": {},
   "outputs": [],
   "source": [
    "# Vamos con la tabla \"orders\""
   ]
  },
  {
   "cell_type": "code",
   "execution_count": 142,
   "id": "3b05dba7-cea7-44cc-98da-52a322911d9a",
   "metadata": {},
   "outputs": [
    {
     "name": "stderr",
     "output_type": "stream",
     "text": [
      "/var/folders/1p/fq1m75_x51v5l3dmf0wxswbr0000gn/T/ipykernel_46666/1308945861.py:2: UserWarning: pandas only supports SQLAlchemy connectable (engine/connection) or database string URI or sqlite3 DBAPI2 connection. Other DBAPI2 objects are not tested. Please consider using SQLAlchemy.\n",
      "  df_orders = pd.read_sql(query, conn)\n"
     ]
    }
   ],
   "source": [
    "query = 'SELECT * FROM \"orders\";'\n",
    "df_orders = pd.read_sql(query, conn)"
   ]
  },
  {
   "cell_type": "code",
   "execution_count": 143,
   "id": "a5ecc050-f491-4f21-a8d4-7d2b1675ca92",
   "metadata": {},
   "outputs": [
    {
     "name": "stdout",
     "output_type": "stream",
     "text": [
      "La tabla 'orders' tiene 478967 filas y 7 columnas.\n"
     ]
    }
   ],
   "source": [
    "# Número de filas y columnas\n",
    "num_rows_orders, num_columns_orders = df_orders.shape\n",
    "print(f\"La tabla 'orders' tiene {num_rows_orders} filas y {num_columns_orders} columnas.\")"
   ]
  },
  {
   "cell_type": "code",
   "execution_count": 144,
   "id": "3f1eb497-d3c5-49d2-a289-3439b3e3c004",
   "metadata": {},
   "outputs": [
    {
     "data": {
      "text/html": [
       "<div>\n",
       "<style scoped>\n",
       "    .dataframe tbody tr th:only-of-type {\n",
       "        vertical-align: middle;\n",
       "    }\n",
       "\n",
       "    .dataframe tbody tr th {\n",
       "        vertical-align: top;\n",
       "    }\n",
       "\n",
       "    .dataframe thead th {\n",
       "        text-align: right;\n",
       "    }\n",
       "</style>\n",
       "<table border=\"1\" class=\"dataframe\">\n",
       "  <thead>\n",
       "    <tr style=\"text-align: right;\">\n",
       "      <th></th>\n",
       "      <th>id</th>\n",
       "      <th>order_id</th>\n",
       "      <th>user_id</th>\n",
       "      <th>order_number</th>\n",
       "      <th>order_dow</th>\n",
       "      <th>order_hour_of_day</th>\n",
       "      <th>days_since_prior_order</th>\n",
       "    </tr>\n",
       "  </thead>\n",
       "  <tbody>\n",
       "    <tr>\n",
       "      <th>0</th>\n",
       "      <td>1</td>\n",
       "      <td>1515936</td>\n",
       "      <td>183418</td>\n",
       "      <td>11</td>\n",
       "      <td>6</td>\n",
       "      <td>13</td>\n",
       "      <td>30.0</td>\n",
       "    </tr>\n",
       "    <tr>\n",
       "      <th>1</th>\n",
       "      <td>2</td>\n",
       "      <td>1690866</td>\n",
       "      <td>163593</td>\n",
       "      <td>5</td>\n",
       "      <td>5</td>\n",
       "      <td>12</td>\n",
       "      <td>9.0</td>\n",
       "    </tr>\n",
       "    <tr>\n",
       "      <th>2</th>\n",
       "      <td>3</td>\n",
       "      <td>1454967</td>\n",
       "      <td>39980</td>\n",
       "      <td>4</td>\n",
       "      <td>5</td>\n",
       "      <td>19</td>\n",
       "      <td>2.0</td>\n",
       "    </tr>\n",
       "    <tr>\n",
       "      <th>3</th>\n",
       "      <td>4</td>\n",
       "      <td>1768857</td>\n",
       "      <td>82516</td>\n",
       "      <td>56</td>\n",
       "      <td>0</td>\n",
       "      <td>20</td>\n",
       "      <td>10.0</td>\n",
       "    </tr>\n",
       "    <tr>\n",
       "      <th>4</th>\n",
       "      <td>5</td>\n",
       "      <td>3007858</td>\n",
       "      <td>196724</td>\n",
       "      <td>2</td>\n",
       "      <td>4</td>\n",
       "      <td>12</td>\n",
       "      <td>17.0</td>\n",
       "    </tr>\n",
       "  </tbody>\n",
       "</table>\n",
       "</div>"
      ],
      "text/plain": [
       "   id  order_id  user_id  order_number  order_dow  order_hour_of_day  \\\n",
       "0   1   1515936   183418            11          6                 13   \n",
       "1   2   1690866   163593             5          5                 12   \n",
       "2   3   1454967    39980             4          5                 19   \n",
       "3   4   1768857    82516            56          0                 20   \n",
       "4   5   3007858   196724             2          4                 12   \n",
       "\n",
       "   days_since_prior_order  \n",
       "0                    30.0  \n",
       "1                     9.0  \n",
       "2                     2.0  \n",
       "3                    10.0  \n",
       "4                    17.0  "
      ]
     },
     "execution_count": 144,
     "metadata": {},
     "output_type": "execute_result"
    }
   ],
   "source": [
    "# Ver las primeras filas\n",
    "df_orders.head()"
   ]
  },
  {
   "cell_type": "code",
   "execution_count": 145,
   "id": "bf7d1f7d-5fb5-4630-ba66-5587fb3cb79c",
   "metadata": {},
   "outputs": [
    {
     "name": "stdout",
     "output_type": "stream",
     "text": [
      "<class 'pandas.core.frame.DataFrame'>\n",
      "RangeIndex: 478967 entries, 0 to 478966\n",
      "Data columns (total 7 columns):\n",
      " #   Column                  Non-Null Count   Dtype  \n",
      "---  ------                  --------------   -----  \n",
      " 0   id                      478967 non-null  int64  \n",
      " 1   order_id                478967 non-null  int64  \n",
      " 2   user_id                 478967 non-null  int64  \n",
      " 3   order_number            478967 non-null  int64  \n",
      " 4   order_dow               478967 non-null  int64  \n",
      " 5   order_hour_of_day       478967 non-null  int64  \n",
      " 6   days_since_prior_order  450148 non-null  float64\n",
      "dtypes: float64(1), int64(6)\n",
      "memory usage: 25.6 MB\n"
     ]
    }
   ],
   "source": [
    "df_orders.info()"
   ]
  },
  {
   "cell_type": "code",
   "execution_count": 146,
   "id": "0b71e643-f9f2-4d2a-895d-3833bbe01908",
   "metadata": {},
   "outputs": [
    {
     "data": {
      "text/html": [
       "<div>\n",
       "<style scoped>\n",
       "    .dataframe tbody tr th:only-of-type {\n",
       "        vertical-align: middle;\n",
       "    }\n",
       "\n",
       "    .dataframe tbody tr th {\n",
       "        vertical-align: top;\n",
       "    }\n",
       "\n",
       "    .dataframe thead th {\n",
       "        text-align: right;\n",
       "    }\n",
       "</style>\n",
       "<table border=\"1\" class=\"dataframe\">\n",
       "  <thead>\n",
       "    <tr style=\"text-align: right;\">\n",
       "      <th></th>\n",
       "      <th>id</th>\n",
       "      <th>order_id</th>\n",
       "      <th>user_id</th>\n",
       "      <th>order_number</th>\n",
       "      <th>order_dow</th>\n",
       "      <th>order_hour_of_day</th>\n",
       "      <th>days_since_prior_order</th>\n",
       "    </tr>\n",
       "  </thead>\n",
       "  <tbody>\n",
       "    <tr>\n",
       "      <th>count</th>\n",
       "      <td>478967.000000</td>\n",
       "      <td>4.789670e+05</td>\n",
       "      <td>478967.000000</td>\n",
       "      <td>478967.000000</td>\n",
       "      <td>478967.000000</td>\n",
       "      <td>478967.000000</td>\n",
       "      <td>450148.000000</td>\n",
       "    </tr>\n",
       "    <tr>\n",
       "      <th>mean</th>\n",
       "      <td>239484.000000</td>\n",
       "      <td>1.709947e+06</td>\n",
       "      <td>102966.537475</td>\n",
       "      <td>17.157808</td>\n",
       "      <td>2.775058</td>\n",
       "      <td>13.446676</td>\n",
       "      <td>11.101751</td>\n",
       "    </tr>\n",
       "    <tr>\n",
       "      <th>std</th>\n",
       "      <td>138266.007529</td>\n",
       "      <td>9.869480e+05</td>\n",
       "      <td>59525.328991</td>\n",
       "      <td>17.704688</td>\n",
       "      <td>2.045869</td>\n",
       "      <td>4.224986</td>\n",
       "      <td>9.189975</td>\n",
       "    </tr>\n",
       "    <tr>\n",
       "      <th>min</th>\n",
       "      <td>1.000000</td>\n",
       "      <td>4.000000e+00</td>\n",
       "      <td>2.000000</td>\n",
       "      <td>1.000000</td>\n",
       "      <td>0.000000</td>\n",
       "      <td>0.000000</td>\n",
       "      <td>0.000000</td>\n",
       "    </tr>\n",
       "    <tr>\n",
       "      <th>25%</th>\n",
       "      <td>119742.500000</td>\n",
       "      <td>8.564685e+05</td>\n",
       "      <td>51414.000000</td>\n",
       "      <td>5.000000</td>\n",
       "      <td>1.000000</td>\n",
       "      <td>10.000000</td>\n",
       "      <td>4.000000</td>\n",
       "    </tr>\n",
       "    <tr>\n",
       "      <th>50%</th>\n",
       "      <td>239484.000000</td>\n",
       "      <td>1.709522e+06</td>\n",
       "      <td>102633.000000</td>\n",
       "      <td>11.000000</td>\n",
       "      <td>3.000000</td>\n",
       "      <td>13.000000</td>\n",
       "      <td>7.000000</td>\n",
       "    </tr>\n",
       "    <tr>\n",
       "      <th>75%</th>\n",
       "      <td>359225.500000</td>\n",
       "      <td>2.562990e+06</td>\n",
       "      <td>154419.000000</td>\n",
       "      <td>23.000000</td>\n",
       "      <td>5.000000</td>\n",
       "      <td>16.000000</td>\n",
       "      <td>15.000000</td>\n",
       "    </tr>\n",
       "    <tr>\n",
       "      <th>max</th>\n",
       "      <td>478967.000000</td>\n",
       "      <td>3.421079e+06</td>\n",
       "      <td>206209.000000</td>\n",
       "      <td>100.000000</td>\n",
       "      <td>6.000000</td>\n",
       "      <td>23.000000</td>\n",
       "      <td>30.000000</td>\n",
       "    </tr>\n",
       "  </tbody>\n",
       "</table>\n",
       "</div>"
      ],
      "text/plain": [
       "                  id      order_id        user_id   order_number  \\\n",
       "count  478967.000000  4.789670e+05  478967.000000  478967.000000   \n",
       "mean   239484.000000  1.709947e+06  102966.537475      17.157808   \n",
       "std    138266.007529  9.869480e+05   59525.328991      17.704688   \n",
       "min         1.000000  4.000000e+00       2.000000       1.000000   \n",
       "25%    119742.500000  8.564685e+05   51414.000000       5.000000   \n",
       "50%    239484.000000  1.709522e+06  102633.000000      11.000000   \n",
       "75%    359225.500000  2.562990e+06  154419.000000      23.000000   \n",
       "max    478967.000000  3.421079e+06  206209.000000     100.000000   \n",
       "\n",
       "           order_dow  order_hour_of_day  days_since_prior_order  \n",
       "count  478967.000000      478967.000000           450148.000000  \n",
       "mean        2.775058          13.446676               11.101751  \n",
       "std         2.045869           4.224986                9.189975  \n",
       "min         0.000000           0.000000                0.000000  \n",
       "25%         1.000000          10.000000                4.000000  \n",
       "50%         3.000000          13.000000                7.000000  \n",
       "75%         5.000000          16.000000               15.000000  \n",
       "max         6.000000          23.000000               30.000000  "
      ]
     },
     "execution_count": 146,
     "metadata": {},
     "output_type": "execute_result"
    }
   ],
   "source": [
    "df_orders.describe(include=\"all\")"
   ]
  },
  {
   "cell_type": "code",
   "execution_count": 147,
   "id": "6082c36b-c643-4786-ad4f-d82726f1653c",
   "metadata": {},
   "outputs": [
    {
     "name": "stdout",
     "output_type": "stream",
     "text": [
      "Valores nulos por columna:\n",
      "id                            0\n",
      "order_id                      0\n",
      "user_id                       0\n",
      "order_number                  0\n",
      "order_dow                     0\n",
      "order_hour_of_day             0\n",
      "days_since_prior_order    28819\n",
      "dtype: int64\n"
     ]
    }
   ],
   "source": [
    "print(\"Valores nulos por columna:\")\n",
    "print(df_orders.isnull().sum())"
   ]
  },
  {
   "cell_type": "code",
   "execution_count": 148,
   "id": "a14cc1af-fcc8-469e-8702-2f6b99d3212b",
   "metadata": {},
   "outputs": [
    {
     "data": {
      "text/html": [
       "<div>\n",
       "<style scoped>\n",
       "    .dataframe tbody tr th:only-of-type {\n",
       "        vertical-align: middle;\n",
       "    }\n",
       "\n",
       "    .dataframe tbody tr th {\n",
       "        vertical-align: top;\n",
       "    }\n",
       "\n",
       "    .dataframe thead th {\n",
       "        text-align: right;\n",
       "    }\n",
       "</style>\n",
       "<table border=\"1\" class=\"dataframe\">\n",
       "  <thead>\n",
       "    <tr style=\"text-align: right;\">\n",
       "      <th></th>\n",
       "      <th>id</th>\n",
       "      <th>order_id</th>\n",
       "      <th>user_id</th>\n",
       "      <th>order_number</th>\n",
       "      <th>order_dow</th>\n",
       "      <th>order_hour_of_day</th>\n",
       "      <th>days_since_prior_order</th>\n",
       "    </tr>\n",
       "  </thead>\n",
       "  <tbody>\n",
       "    <tr>\n",
       "      <th>28</th>\n",
       "      <td>29</td>\n",
       "      <td>133707</td>\n",
       "      <td>182261</td>\n",
       "      <td>1</td>\n",
       "      <td>3</td>\n",
       "      <td>10</td>\n",
       "      <td>NaN</td>\n",
       "    </tr>\n",
       "    <tr>\n",
       "      <th>96</th>\n",
       "      <td>97</td>\n",
       "      <td>787445</td>\n",
       "      <td>25685</td>\n",
       "      <td>1</td>\n",
       "      <td>6</td>\n",
       "      <td>18</td>\n",
       "      <td>NaN</td>\n",
       "    </tr>\n",
       "    <tr>\n",
       "      <th>100</th>\n",
       "      <td>101</td>\n",
       "      <td>294410</td>\n",
       "      <td>111449</td>\n",
       "      <td>1</td>\n",
       "      <td>0</td>\n",
       "      <td>19</td>\n",
       "      <td>NaN</td>\n",
       "    </tr>\n",
       "    <tr>\n",
       "      <th>103</th>\n",
       "      <td>104</td>\n",
       "      <td>2869915</td>\n",
       "      <td>123958</td>\n",
       "      <td>1</td>\n",
       "      <td>4</td>\n",
       "      <td>16</td>\n",
       "      <td>NaN</td>\n",
       "    </tr>\n",
       "    <tr>\n",
       "      <th>104</th>\n",
       "      <td>105</td>\n",
       "      <td>2521921</td>\n",
       "      <td>42286</td>\n",
       "      <td>1</td>\n",
       "      <td>3</td>\n",
       "      <td>18</td>\n",
       "      <td>NaN</td>\n",
       "    </tr>\n",
       "    <tr>\n",
       "      <th>...</th>\n",
       "      <td>...</td>\n",
       "      <td>...</td>\n",
       "      <td>...</td>\n",
       "      <td>...</td>\n",
       "      <td>...</td>\n",
       "      <td>...</td>\n",
       "      <td>...</td>\n",
       "    </tr>\n",
       "    <tr>\n",
       "      <th>478895</th>\n",
       "      <td>478896</td>\n",
       "      <td>2589657</td>\n",
       "      <td>205028</td>\n",
       "      <td>1</td>\n",
       "      <td>0</td>\n",
       "      <td>16</td>\n",
       "      <td>NaN</td>\n",
       "    </tr>\n",
       "    <tr>\n",
       "      <th>478896</th>\n",
       "      <td>478897</td>\n",
       "      <td>2222353</td>\n",
       "      <td>141211</td>\n",
       "      <td>1</td>\n",
       "      <td>2</td>\n",
       "      <td>13</td>\n",
       "      <td>NaN</td>\n",
       "    </tr>\n",
       "    <tr>\n",
       "      <th>478922</th>\n",
       "      <td>478923</td>\n",
       "      <td>2272807</td>\n",
       "      <td>204154</td>\n",
       "      <td>1</td>\n",
       "      <td>1</td>\n",
       "      <td>15</td>\n",
       "      <td>NaN</td>\n",
       "    </tr>\n",
       "    <tr>\n",
       "      <th>478926</th>\n",
       "      <td>478927</td>\n",
       "      <td>2499542</td>\n",
       "      <td>68810</td>\n",
       "      <td>1</td>\n",
       "      <td>4</td>\n",
       "      <td>19</td>\n",
       "      <td>NaN</td>\n",
       "    </tr>\n",
       "    <tr>\n",
       "      <th>478945</th>\n",
       "      <td>478946</td>\n",
       "      <td>1387033</td>\n",
       "      <td>22496</td>\n",
       "      <td>1</td>\n",
       "      <td>5</td>\n",
       "      <td>14</td>\n",
       "      <td>NaN</td>\n",
       "    </tr>\n",
       "  </tbody>\n",
       "</table>\n",
       "<p>28819 rows × 7 columns</p>\n",
       "</div>"
      ],
      "text/plain": [
       "            id  order_id  user_id  order_number  order_dow  order_hour_of_day  \\\n",
       "28          29    133707   182261             1          3                 10   \n",
       "96          97    787445    25685             1          6                 18   \n",
       "100        101    294410   111449             1          0                 19   \n",
       "103        104   2869915   123958             1          4                 16   \n",
       "104        105   2521921    42286             1          3                 18   \n",
       "...        ...       ...      ...           ...        ...                ...   \n",
       "478895  478896   2589657   205028             1          0                 16   \n",
       "478896  478897   2222353   141211             1          2                 13   \n",
       "478922  478923   2272807   204154             1          1                 15   \n",
       "478926  478927   2499542    68810             1          4                 19   \n",
       "478945  478946   1387033    22496             1          5                 14   \n",
       "\n",
       "        days_since_prior_order  \n",
       "28                         NaN  \n",
       "96                         NaN  \n",
       "100                        NaN  \n",
       "103                        NaN  \n",
       "104                        NaN  \n",
       "...                        ...  \n",
       "478895                     NaN  \n",
       "478896                     NaN  \n",
       "478922                     NaN  \n",
       "478926                     NaN  \n",
       "478945                     NaN  \n",
       "\n",
       "[28819 rows x 7 columns]"
      ]
     },
     "execution_count": 148,
     "metadata": {},
     "output_type": "execute_result"
    }
   ],
   "source": [
    "#Esto nos mostrará las filas donde days_since_prior_order es NaN.\n",
    "df_orders[df_orders['days_since_prior_order'].isnull()]"
   ]
  },
  {
   "cell_type": "code",
   "execution_count": 149,
   "id": "9eb14c80-4cc5-48fc-92ed-125c53e1c771",
   "metadata": {},
   "outputs": [],
   "source": [
    "# La columna days_since_prior_order representa el número de días transcurridos\n",
    "# desde el pedido anterior realizado por el mismo usuario."
   ]
  },
  {
   "cell_type": "code",
   "execution_count": 150,
   "id": "7907ff91-1be0-49e6-94cc-b37bb80abcde",
   "metadata": {},
   "outputs": [
    {
     "data": {
      "text/plain": [
       "order_number\n",
       "1    28819\n",
       "Name: count, dtype: int64"
      ]
     },
     "execution_count": 150,
     "metadata": {},
     "output_type": "execute_result"
    }
   ],
   "source": [
    "df_orders[df_orders['days_since_prior_order'].isnull()]['order_number'].value_counts()"
   ]
  },
  {
   "cell_type": "code",
   "execution_count": 151,
   "id": "8307b4cc-a5ed-49fb-a7be-7587102640b4",
   "metadata": {},
   "outputs": [],
   "source": [
    "# Los valores NaN en la columna days_since_prior_order corresponden exclusivamente a pedidos con order_number = 1\n",
    "# lo que confirma que estos valores indican la primera compra de cada usuario en la plataforma."
   ]
  },
  {
   "cell_type": "code",
   "execution_count": 152,
   "id": "1d06f10f-3523-4603-abaa-24965178483e",
   "metadata": {},
   "outputs": [],
   "source": [
    "# Hay duplicados?"
   ]
  },
  {
   "cell_type": "code",
   "execution_count": 153,
   "id": "4ee54677-f668-48d0-830a-b6609d5aa0b0",
   "metadata": {},
   "outputs": [
    {
     "name": "stdout",
     "output_type": "stream",
     "text": [
      "Número de filas duplicadas: 0\n"
     ]
    }
   ],
   "source": [
    "print(\"Número de filas duplicadas:\", df_orders.duplicated().sum())"
   ]
  },
  {
   "cell_type": "code",
   "execution_count": 154,
   "id": "ace370a0-01a4-43c2-a6f0-e3d8bcb4743b",
   "metadata": {},
   "outputs": [],
   "source": [
    "#Analizar tabla \"products\""
   ]
  },
  {
   "cell_type": "code",
   "execution_count": 155,
   "id": "d05ea5c2-d96f-40f2-8af6-bddba322025c",
   "metadata": {},
   "outputs": [
    {
     "name": "stderr",
     "output_type": "stream",
     "text": [
      "/var/folders/1p/fq1m75_x51v5l3dmf0wxswbr0000gn/T/ipykernel_46666/2404336960.py:2: UserWarning: pandas only supports SQLAlchemy connectable (engine/connection) or database string URI or sqlite3 DBAPI2 connection. Other DBAPI2 objects are not tested. Please consider using SQLAlchemy.\n",
      "  df_products = pd.read_sql(query, conn)\n"
     ]
    }
   ],
   "source": [
    "query = 'SELECT * FROM \"products\";'\n",
    "df_products = pd.read_sql(query, conn)"
   ]
  },
  {
   "cell_type": "code",
   "execution_count": 156,
   "id": "b7f205bf-14ee-4466-a140-6bf2e0414c3c",
   "metadata": {},
   "outputs": [
    {
     "data": {
      "text/html": [
       "<div>\n",
       "<style scoped>\n",
       "    .dataframe tbody tr th:only-of-type {\n",
       "        vertical-align: middle;\n",
       "    }\n",
       "\n",
       "    .dataframe tbody tr th {\n",
       "        vertical-align: top;\n",
       "    }\n",
       "\n",
       "    .dataframe thead th {\n",
       "        text-align: right;\n",
       "    }\n",
       "</style>\n",
       "<table border=\"1\" class=\"dataframe\">\n",
       "  <thead>\n",
       "    <tr style=\"text-align: right;\">\n",
       "      <th></th>\n",
       "      <th>product_id</th>\n",
       "      <th>product_name</th>\n",
       "      <th>aisle_id</th>\n",
       "      <th>department_id</th>\n",
       "    </tr>\n",
       "  </thead>\n",
       "  <tbody>\n",
       "    <tr>\n",
       "      <th>0</th>\n",
       "      <td>1</td>\n",
       "      <td>Chocolate Sandwich Cookies</td>\n",
       "      <td>61</td>\n",
       "      <td>19</td>\n",
       "    </tr>\n",
       "    <tr>\n",
       "      <th>1</th>\n",
       "      <td>2</td>\n",
       "      <td>All-Seasons Salt</td>\n",
       "      <td>104</td>\n",
       "      <td>13</td>\n",
       "    </tr>\n",
       "    <tr>\n",
       "      <th>2</th>\n",
       "      <td>3</td>\n",
       "      <td>Robust Golden Unsweetened Oolong Tea</td>\n",
       "      <td>94</td>\n",
       "      <td>7</td>\n",
       "    </tr>\n",
       "    <tr>\n",
       "      <th>3</th>\n",
       "      <td>4</td>\n",
       "      <td>Smart Ones Classic Favorites Mini Rigatoni Wit...</td>\n",
       "      <td>38</td>\n",
       "      <td>1</td>\n",
       "    </tr>\n",
       "    <tr>\n",
       "      <th>4</th>\n",
       "      <td>5</td>\n",
       "      <td>Green Chile Anytime Sauce</td>\n",
       "      <td>5</td>\n",
       "      <td>13</td>\n",
       "    </tr>\n",
       "  </tbody>\n",
       "</table>\n",
       "</div>"
      ],
      "text/plain": [
       "   product_id                                       product_name  aisle_id  \\\n",
       "0           1                         Chocolate Sandwich Cookies        61   \n",
       "1           2                                   All-Seasons Salt       104   \n",
       "2           3               Robust Golden Unsweetened Oolong Tea        94   \n",
       "3           4  Smart Ones Classic Favorites Mini Rigatoni Wit...        38   \n",
       "4           5                          Green Chile Anytime Sauce         5   \n",
       "\n",
       "   department_id  \n",
       "0             19  \n",
       "1             13  \n",
       "2              7  \n",
       "3              1  \n",
       "4             13  "
      ]
     },
     "execution_count": 156,
     "metadata": {},
     "output_type": "execute_result"
    }
   ],
   "source": [
    "df_products.head()"
   ]
  },
  {
   "cell_type": "code",
   "execution_count": 157,
   "id": "7e97629f-e5e1-4655-b7bd-1d3e7d7c2b1a",
   "metadata": {},
   "outputs": [
    {
     "name": "stdout",
     "output_type": "stream",
     "text": [
      "<class 'pandas.core.frame.DataFrame'>\n",
      "RangeIndex: 49694 entries, 0 to 49693\n",
      "Data columns (total 4 columns):\n",
      " #   Column         Non-Null Count  Dtype \n",
      "---  ------         --------------  ----- \n",
      " 0   product_id     49694 non-null  int64 \n",
      " 1   product_name   48436 non-null  object\n",
      " 2   aisle_id       49694 non-null  int64 \n",
      " 3   department_id  49694 non-null  int64 \n",
      "dtypes: int64(3), object(1)\n",
      "memory usage: 1.5+ MB\n"
     ]
    }
   ],
   "source": [
    "df_products.info()"
   ]
  },
  {
   "cell_type": "code",
   "execution_count": 158,
   "id": "e65cf41e-bd32-4604-8ba5-5afcd3274bb9",
   "metadata": {},
   "outputs": [
    {
     "name": "stdout",
     "output_type": "stream",
     "text": [
      "Valores nulos por columna:\n",
      "product_id          0\n",
      "product_name     1258\n",
      "aisle_id            0\n",
      "department_id       0\n",
      "dtype: int64\n"
     ]
    }
   ],
   "source": [
    "print(\"Valores nulos por columna:\")\n",
    "print(df_products.isnull().sum())"
   ]
  },
  {
   "cell_type": "code",
   "execution_count": 159,
   "id": "7ba0de38-2a6d-4faf-b3be-ede5a0b540e2",
   "metadata": {},
   "outputs": [
    {
     "name": "stdout",
     "output_type": "stream",
     "text": [
      "Número de filas duplicadas: 0\n"
     ]
    }
   ],
   "source": [
    "print(\"Número de filas duplicadas:\", df_products.duplicated().sum())"
   ]
  },
  {
   "cell_type": "code",
   "execution_count": 160,
   "id": "ff900c88-0497-494a-a74a-e272964c42e3",
   "metadata": {},
   "outputs": [],
   "source": [
    "# Hay 1258 valores nulos en la columna product_name\n",
    "# lo que indica que hay productos sin nombre registrado."
   ]
  },
  {
   "cell_type": "code",
   "execution_count": 161,
   "id": "2c35bcc8-8227-42ff-99e9-db0f43a78c95",
   "metadata": {},
   "outputs": [
    {
     "data": {
      "text/html": [
       "<div>\n",
       "<style scoped>\n",
       "    .dataframe tbody tr th:only-of-type {\n",
       "        vertical-align: middle;\n",
       "    }\n",
       "\n",
       "    .dataframe tbody tr th {\n",
       "        vertical-align: top;\n",
       "    }\n",
       "\n",
       "    .dataframe thead th {\n",
       "        text-align: right;\n",
       "    }\n",
       "</style>\n",
       "<table border=\"1\" class=\"dataframe\">\n",
       "  <thead>\n",
       "    <tr style=\"text-align: right;\">\n",
       "      <th></th>\n",
       "      <th>product_id</th>\n",
       "      <th>product_name</th>\n",
       "      <th>aisle_id</th>\n",
       "      <th>department_id</th>\n",
       "    </tr>\n",
       "  </thead>\n",
       "  <tbody>\n",
       "    <tr>\n",
       "      <th>37</th>\n",
       "      <td>38</td>\n",
       "      <td>None</td>\n",
       "      <td>100</td>\n",
       "      <td>21</td>\n",
       "    </tr>\n",
       "    <tr>\n",
       "      <th>71</th>\n",
       "      <td>72</td>\n",
       "      <td>None</td>\n",
       "      <td>100</td>\n",
       "      <td>21</td>\n",
       "    </tr>\n",
       "    <tr>\n",
       "      <th>109</th>\n",
       "      <td>110</td>\n",
       "      <td>None</td>\n",
       "      <td>100</td>\n",
       "      <td>21</td>\n",
       "    </tr>\n",
       "    <tr>\n",
       "      <th>296</th>\n",
       "      <td>297</td>\n",
       "      <td>None</td>\n",
       "      <td>100</td>\n",
       "      <td>21</td>\n",
       "    </tr>\n",
       "    <tr>\n",
       "      <th>416</th>\n",
       "      <td>417</td>\n",
       "      <td>None</td>\n",
       "      <td>100</td>\n",
       "      <td>21</td>\n",
       "    </tr>\n",
       "    <tr>\n",
       "      <th>...</th>\n",
       "      <td>...</td>\n",
       "      <td>...</td>\n",
       "      <td>...</td>\n",
       "      <td>...</td>\n",
       "    </tr>\n",
       "    <tr>\n",
       "      <th>49552</th>\n",
       "      <td>49553</td>\n",
       "      <td>None</td>\n",
       "      <td>100</td>\n",
       "      <td>21</td>\n",
       "    </tr>\n",
       "    <tr>\n",
       "      <th>49574</th>\n",
       "      <td>49575</td>\n",
       "      <td>None</td>\n",
       "      <td>100</td>\n",
       "      <td>21</td>\n",
       "    </tr>\n",
       "    <tr>\n",
       "      <th>49640</th>\n",
       "      <td>49641</td>\n",
       "      <td>None</td>\n",
       "      <td>100</td>\n",
       "      <td>21</td>\n",
       "    </tr>\n",
       "    <tr>\n",
       "      <th>49663</th>\n",
       "      <td>49664</td>\n",
       "      <td>None</td>\n",
       "      <td>100</td>\n",
       "      <td>21</td>\n",
       "    </tr>\n",
       "    <tr>\n",
       "      <th>49668</th>\n",
       "      <td>49669</td>\n",
       "      <td>None</td>\n",
       "      <td>100</td>\n",
       "      <td>21</td>\n",
       "    </tr>\n",
       "  </tbody>\n",
       "</table>\n",
       "<p>1258 rows × 4 columns</p>\n",
       "</div>"
      ],
      "text/plain": [
       "       product_id product_name  aisle_id  department_id\n",
       "37             38         None       100             21\n",
       "71             72         None       100             21\n",
       "109           110         None       100             21\n",
       "296           297         None       100             21\n",
       "416           417         None       100             21\n",
       "...           ...          ...       ...            ...\n",
       "49552       49553         None       100             21\n",
       "49574       49575         None       100             21\n",
       "49640       49641         None       100             21\n",
       "49663       49664         None       100             21\n",
       "49668       49669         None       100             21\n",
       "\n",
       "[1258 rows x 4 columns]"
      ]
     },
     "execution_count": 161,
     "metadata": {},
     "output_type": "execute_result"
    }
   ],
   "source": [
    "df_products[df_products['product_name'].isnull()]"
   ]
  },
  {
   "cell_type": "code",
   "execution_count": 162,
   "id": "15500c2f-bdf3-4fb9-99e8-de030b931e42",
   "metadata": {},
   "outputs": [
    {
     "data": {
      "text/plain": [
       "aisle_id\n",
       "100    1258\n",
       "Name: count, dtype: int64"
      ]
     },
     "execution_count": 162,
     "metadata": {},
     "output_type": "execute_result"
    }
   ],
   "source": [
    "df_products[df_products['product_name'].isnull()]['aisle_id'].value_counts()"
   ]
  },
  {
   "cell_type": "code",
   "execution_count": 163,
   "id": "fa0865a9-1f12-4f17-a9f2-5e4881957635",
   "metadata": {},
   "outputs": [
    {
     "data": {
      "text/plain": [
       "department_id\n",
       "21    1258\n",
       "Name: count, dtype: int64"
      ]
     },
     "execution_count": 163,
     "metadata": {},
     "output_type": "execute_result"
    }
   ],
   "source": [
    "df_products[df_products['product_name'].isnull()]['department_id'].value_counts()"
   ]
  },
  {
   "cell_type": "code",
   "execution_count": 164,
   "id": "f1096138-0fb1-4f55-be63-78891f867eb2",
   "metadata": {},
   "outputs": [],
   "source": [
    "# Se ve que los valores nulos corresponden al departament_id = 21 y aisles_id = 100"
   ]
  },
  {
   "cell_type": "code",
   "execution_count": 165,
   "id": "f8636149-a104-49a1-9862-fd06c0a9e013",
   "metadata": {},
   "outputs": [
    {
     "data": {
      "text/html": [
       "<div>\n",
       "<style scoped>\n",
       "    .dataframe tbody tr th:only-of-type {\n",
       "        vertical-align: middle;\n",
       "    }\n",
       "\n",
       "    .dataframe tbody tr th {\n",
       "        vertical-align: top;\n",
       "    }\n",
       "\n",
       "    .dataframe thead th {\n",
       "        text-align: right;\n",
       "    }\n",
       "</style>\n",
       "<table border=\"1\" class=\"dataframe\">\n",
       "  <thead>\n",
       "    <tr style=\"text-align: right;\">\n",
       "      <th></th>\n",
       "      <th>aisle_id</th>\n",
       "      <th>aisle</th>\n",
       "    </tr>\n",
       "  </thead>\n",
       "  <tbody>\n",
       "    <tr>\n",
       "      <th>99</th>\n",
       "      <td>100</td>\n",
       "      <td>missing</td>\n",
       "    </tr>\n",
       "  </tbody>\n",
       "</table>\n",
       "</div>"
      ],
      "text/plain": [
       "    aisle_id    aisle\n",
       "99       100  missing"
      ]
     },
     "execution_count": 165,
     "metadata": {},
     "output_type": "execute_result"
    }
   ],
   "source": [
    "df_aisles[df_aisles['aisle_id'] == 100]"
   ]
  },
  {
   "cell_type": "code",
   "execution_count": 166,
   "id": "5cb34995-189e-4f60-8247-0bb2f48fd41e",
   "metadata": {},
   "outputs": [
    {
     "data": {
      "text/html": [
       "<div>\n",
       "<style scoped>\n",
       "    .dataframe tbody tr th:only-of-type {\n",
       "        vertical-align: middle;\n",
       "    }\n",
       "\n",
       "    .dataframe tbody tr th {\n",
       "        vertical-align: top;\n",
       "    }\n",
       "\n",
       "    .dataframe thead th {\n",
       "        text-align: right;\n",
       "    }\n",
       "</style>\n",
       "<table border=\"1\" class=\"dataframe\">\n",
       "  <thead>\n",
       "    <tr style=\"text-align: right;\">\n",
       "      <th></th>\n",
       "      <th>department_id</th>\n",
       "      <th>department</th>\n",
       "    </tr>\n",
       "  </thead>\n",
       "  <tbody>\n",
       "    <tr>\n",
       "      <th>20</th>\n",
       "      <td>21</td>\n",
       "      <td>missing</td>\n",
       "    </tr>\n",
       "  </tbody>\n",
       "</table>\n",
       "</div>"
      ],
      "text/plain": [
       "    department_id department\n",
       "20             21    missing"
      ]
     },
     "execution_count": 166,
     "metadata": {},
     "output_type": "execute_result"
    }
   ],
   "source": [
    "df_departments[df_departments['department_id'] == 21]"
   ]
  },
  {
   "cell_type": "markdown",
   "id": "ba9b74b5-9b56-4a0e-afb4-c4d87b2579d5",
   "metadata": {},
   "source": [
    "Conclusiones y plan de acción\n",
    "\n",
    "1.\tSe identificaron valores nulos en la columna add_to_cart_order de la tabla order_products, esta columna indica la posición en la que un producto fue agregado al carrito dentro de una orden específica.\n",
    "2.\tEn la tabla orders, los valores nulos en la columna days_since_prior_order corresponden exclusivamente a pedidos con order_number = 1, lo que sugiere que estos representan la primera compra de cada usuario en la plataforma.\n",
    "3.\tEn la tabla products, se detectaron valores nulos en la columna product_name, lo que indica que ciertos productos no tienen nombre registrado. Además, estos productos están asociados a department_id = 21 y aisle_id = 21, cuyos valores en sus respectivas tablas aparecen como “missing”."
   ]
  },
  {
   "cell_type": "code",
   "execution_count": 180,
   "id": "1607c92e-4e2f-4ecc-8c13-ead57f13db9f",
   "metadata": {},
   "outputs": [],
   "source": [
    "#Limpieza de valores ausentes (imputación, eliminación)."
   ]
  },
  {
   "cell_type": "code",
   "execution_count": 190,
   "id": "561f166b-a7f5-413a-ba53-88abe07c349a",
   "metadata": {},
   "outputs": [],
   "source": [
    "# \"add_to_cart_orders\" puede indicar una compra sin una secuencia específica.\n",
    "# Productos añadidos de otra forma"
   ]
  },
  {
   "cell_type": "code",
   "execution_count": 192,
   "id": "0fe865d6-d0c6-46f7-bd40-8e2553852341",
   "metadata": {},
   "outputs": [],
   "source": [
    "df_order_products['add_to_cart_order'] = df_order_products['add_to_cart_order'].fillna(-1)"
   ]
  },
  {
   "cell_type": "code",
   "execution_count": 195,
   "id": "9828a9bb-23f1-4dfb-9c28-e916eabf609c",
   "metadata": {},
   "outputs": [],
   "source": [
    "# Dado que los valores nulos en days_since_prior_order corresponden exclusivamente a order_number = 1\n",
    "# lo más lógico es interpretarlos como que no hay un tiempo previo de compra ya que representan la primera compra del usuario. "
   ]
  },
  {
   "cell_type": "code",
   "execution_count": 197,
   "id": "6eace44f-ce56-410d-86e3-eadce7c8fa5c",
   "metadata": {},
   "outputs": [],
   "source": [
    "df_orders['days_since_prior_order'] = df_orders['days_since_prior_order'].fillna(0)"
   ]
  },
  {
   "cell_type": "code",
   "execution_count": 198,
   "id": "03f36b9d-bc49-4056-ac3a-2a84ad35acf0",
   "metadata": {},
   "outputs": [],
   "source": [
    "df_products['product_name'] = df_products['product_name'].fillna('Producto desconocido')"
   ]
  },
  {
   "cell_type": "code",
   "execution_count": 202,
   "id": "fa1b1965-f8ff-44af-87d2-582a4b299467",
   "metadata": {},
   "outputs": [],
   "source": [
    "# ver tipos de datos"
   ]
  },
  {
   "cell_type": "code",
   "execution_count": 203,
   "id": "c46a271c-34b0-4c26-b7b5-38b2719f4ee4",
   "metadata": {},
   "outputs": [
    {
     "data": {
      "text/plain": [
       "id                          int64\n",
       "order_id                    int64\n",
       "user_id                     int64\n",
       "order_number                int64\n",
       "order_dow                   int64\n",
       "order_hour_of_day           int64\n",
       "days_since_prior_order    float64\n",
       "dtype: object"
      ]
     },
     "execution_count": 203,
     "metadata": {},
     "output_type": "execute_result"
    }
   ],
   "source": [
    "df_orders.dtypes"
   ]
  },
  {
   "cell_type": "code",
   "execution_count": 204,
   "id": "dd9cd597-7f36-4ea1-83f8-b400a93cffb1",
   "metadata": {},
   "outputs": [
    {
     "data": {
      "text/plain": [
       "order_id               int64\n",
       "product_id             int64\n",
       "add_to_cart_order    float64\n",
       "reordered              int64\n",
       "dtype: object"
      ]
     },
     "execution_count": 204,
     "metadata": {},
     "output_type": "execute_result"
    }
   ],
   "source": [
    "df_order_products.dtypes"
   ]
  },
  {
   "cell_type": "code",
   "execution_count": 205,
   "id": "732f093b-dc57-4443-980d-7f85f122454d",
   "metadata": {},
   "outputs": [
    {
     "data": {
      "text/plain": [
       "product_id        int64\n",
       "product_name     object\n",
       "aisle_id          int64\n",
       "department_id     int64\n",
       "dtype: object"
      ]
     },
     "execution_count": 205,
     "metadata": {},
     "output_type": "execute_result"
    }
   ],
   "source": [
    "df_products.dtypes"
   ]
  },
  {
   "cell_type": "code",
   "execution_count": 211,
   "id": "bbafe547-20d2-4c47-a8a2-0efdd628ef32",
   "metadata": {},
   "outputs": [],
   "source": [
    "# Tablas de Dimensiones (Descriptivas)"
   ]
  },
  {
   "cell_type": "markdown",
   "id": "a9b56ad8-73e0-40dc-bd64-e38c96b2fa81",
   "metadata": {},
   "source": [
    "dim_products → Información de los productos.\n",
    "\t•\tproduct_id (PK)\n",
    "\t•\tproduct_name\n",
    "\t•\taisle_id (FK → dim_aisles)\n",
    "\t•\tdepartment_id (FK → dim_departments)"
   ]
  },
  {
   "cell_type": "markdown",
   "id": "23141733-70f1-4182-bcc8-03bfba034a72",
   "metadata": {},
   "source": [
    "dim_aisles → Información de pasillos.\n",
    "\t•\taisle_id (PK)\n",
    "\t•\taisle_name"
   ]
  },
  {
   "cell_type": "markdown",
   "id": "5f0a8a5c-14c2-4f2c-9a26-3bd5d9257409",
   "metadata": {},
   "source": [
    "dim_departments → Información de departamentos.\n",
    "\t•\tdepartment_id (PK)\n",
    "\t•\tdepartment_name"
   ]
  },
  {
   "cell_type": "markdown",
   "id": "c64352c3-788e-48a2-b920-69801ab5dbc4",
   "metadata": {},
   "source": [
    "dim_orders → Información de órdenes.\n",
    "\t•\torder_id (PK)\n",
    "\t•\tuser_id\n",
    "\t•\torder_number\n",
    "\t•\torder_dow (Día de la semana)\n",
    "\t•\torder_hour_of_day\n",
    "\t•\tdays_since_prior_order"
   ]
  },
  {
   "cell_type": "code",
   "execution_count": 209,
   "id": "eadda1f5-b705-4428-9c4f-78cc87f43241",
   "metadata": {},
   "outputs": [],
   "source": [
    "# Tabla de Hechos (Eventos de compra)"
   ]
  },
  {
   "cell_type": "markdown",
   "id": "5b39e2a8-af36-41aa-a619-31f50e67c358",
   "metadata": {},
   "source": [
    "fact_order_products → Registra compras de productos por usuario.\n",
    "\t•\torder_id (FK → dim_orders)\n",
    "\t•\tproduct_id (FK → dim_products)\n",
    "\t•\tadd_to_cart_order\n",
    "\t•\treordered"
   ]
  },
  {
   "cell_type": "code",
   "execution_count": null,
   "id": "4413db9d-cfe3-4076-ba7c-f85393dc319e",
   "metadata": {},
   "outputs": [],
   "source": []
  }
 ],
 "metadata": {
  "kernelspec": {
   "display_name": "Python 3 (ipykernel)",
   "language": "python",
   "name": "python3"
  },
  "language_info": {
   "codemirror_mode": {
    "name": "ipython",
    "version": 3
   },
   "file_extension": ".py",
   "mimetype": "text/x-python",
   "name": "python",
   "nbconvert_exporter": "python",
   "pygments_lexer": "ipython3",
   "version": "3.12.2"
  }
 },
 "nbformat": 4,
 "nbformat_minor": 5
}
